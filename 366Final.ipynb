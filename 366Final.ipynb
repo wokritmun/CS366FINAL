{
  "nbformat": 4,
  "nbformat_minor": 0,
  "metadata": {
    "colab": {
      "provenance": []
    },
    "kernelspec": {
      "name": "python3",
      "display_name": "Python 3"
    },
    "language_info": {
      "name": "python"
    }
  },
  "cells": [
    {
      "cell_type": "markdown",
      "source": [],
      "metadata": {
        "id": "rsbsWopNvIPw"
      }
    },
    {
      "cell_type": "markdown",
      "source": [
        "# Importing necessary libraries and setting up the environment"
      ],
      "metadata": {
        "id": "uxUFnXSk1JnG"
      }
    },
    {
      "cell_type": "code",
      "source": [
        "from google.colab import files\n",
        "\n",
        "uploaded = files.upload()\n"
      ],
      "metadata": {
        "colab": {
          "base_uri": "https://localhost:8080/",
          "height": 74
        },
        "id": "Hql7vF0NvH4I",
        "outputId": "16e00c0c-1d27-481f-c5e4-8eb2285ce19f"
      },
      "execution_count": 5,
      "outputs": [
        {
          "output_type": "display_data",
          "data": {
            "text/plain": [
              "<IPython.core.display.HTML object>"
            ],
            "text/html": [
              "\n",
              "     <input type=\"file\" id=\"files-0554ce48-4ad3-4893-9926-e8a996107686\" name=\"files[]\" multiple disabled\n",
              "        style=\"border:none\" />\n",
              "     <output id=\"result-0554ce48-4ad3-4893-9926-e8a996107686\">\n",
              "      Upload widget is only available when the cell has been executed in the\n",
              "      current browser session. Please rerun this cell to enable.\n",
              "      </output>\n",
              "      <script>// Copyright 2017 Google LLC\n",
              "//\n",
              "// Licensed under the Apache License, Version 2.0 (the \"License\");\n",
              "// you may not use this file except in compliance with the License.\n",
              "// You may obtain a copy of the License at\n",
              "//\n",
              "//      http://www.apache.org/licenses/LICENSE-2.0\n",
              "//\n",
              "// Unless required by applicable law or agreed to in writing, software\n",
              "// distributed under the License is distributed on an \"AS IS\" BASIS,\n",
              "// WITHOUT WARRANTIES OR CONDITIONS OF ANY KIND, either express or implied.\n",
              "// See the License for the specific language governing permissions and\n",
              "// limitations under the License.\n",
              "\n",
              "/**\n",
              " * @fileoverview Helpers for google.colab Python module.\n",
              " */\n",
              "(function(scope) {\n",
              "function span(text, styleAttributes = {}) {\n",
              "  const element = document.createElement('span');\n",
              "  element.textContent = text;\n",
              "  for (const key of Object.keys(styleAttributes)) {\n",
              "    element.style[key] = styleAttributes[key];\n",
              "  }\n",
              "  return element;\n",
              "}\n",
              "\n",
              "// Max number of bytes which will be uploaded at a time.\n",
              "const MAX_PAYLOAD_SIZE = 100 * 1024;\n",
              "\n",
              "function _uploadFiles(inputId, outputId) {\n",
              "  const steps = uploadFilesStep(inputId, outputId);\n",
              "  const outputElement = document.getElementById(outputId);\n",
              "  // Cache steps on the outputElement to make it available for the next call\n",
              "  // to uploadFilesContinue from Python.\n",
              "  outputElement.steps = steps;\n",
              "\n",
              "  return _uploadFilesContinue(outputId);\n",
              "}\n",
              "\n",
              "// This is roughly an async generator (not supported in the browser yet),\n",
              "// where there are multiple asynchronous steps and the Python side is going\n",
              "// to poll for completion of each step.\n",
              "// This uses a Promise to block the python side on completion of each step,\n",
              "// then passes the result of the previous step as the input to the next step.\n",
              "function _uploadFilesContinue(outputId) {\n",
              "  const outputElement = document.getElementById(outputId);\n",
              "  const steps = outputElement.steps;\n",
              "\n",
              "  const next = steps.next(outputElement.lastPromiseValue);\n",
              "  return Promise.resolve(next.value.promise).then((value) => {\n",
              "    // Cache the last promise value to make it available to the next\n",
              "    // step of the generator.\n",
              "    outputElement.lastPromiseValue = value;\n",
              "    return next.value.response;\n",
              "  });\n",
              "}\n",
              "\n",
              "/**\n",
              " * Generator function which is called between each async step of the upload\n",
              " * process.\n",
              " * @param {string} inputId Element ID of the input file picker element.\n",
              " * @param {string} outputId Element ID of the output display.\n",
              " * @return {!Iterable<!Object>} Iterable of next steps.\n",
              " */\n",
              "function* uploadFilesStep(inputId, outputId) {\n",
              "  const inputElement = document.getElementById(inputId);\n",
              "  inputElement.disabled = false;\n",
              "\n",
              "  const outputElement = document.getElementById(outputId);\n",
              "  outputElement.innerHTML = '';\n",
              "\n",
              "  const pickedPromise = new Promise((resolve) => {\n",
              "    inputElement.addEventListener('change', (e) => {\n",
              "      resolve(e.target.files);\n",
              "    });\n",
              "  });\n",
              "\n",
              "  const cancel = document.createElement('button');\n",
              "  inputElement.parentElement.appendChild(cancel);\n",
              "  cancel.textContent = 'Cancel upload';\n",
              "  const cancelPromise = new Promise((resolve) => {\n",
              "    cancel.onclick = () => {\n",
              "      resolve(null);\n",
              "    };\n",
              "  });\n",
              "\n",
              "  // Wait for the user to pick the files.\n",
              "  const files = yield {\n",
              "    promise: Promise.race([pickedPromise, cancelPromise]),\n",
              "    response: {\n",
              "      action: 'starting',\n",
              "    }\n",
              "  };\n",
              "\n",
              "  cancel.remove();\n",
              "\n",
              "  // Disable the input element since further picks are not allowed.\n",
              "  inputElement.disabled = true;\n",
              "\n",
              "  if (!files) {\n",
              "    return {\n",
              "      response: {\n",
              "        action: 'complete',\n",
              "      }\n",
              "    };\n",
              "  }\n",
              "\n",
              "  for (const file of files) {\n",
              "    const li = document.createElement('li');\n",
              "    li.append(span(file.name, {fontWeight: 'bold'}));\n",
              "    li.append(span(\n",
              "        `(${file.type || 'n/a'}) - ${file.size} bytes, ` +\n",
              "        `last modified: ${\n",
              "            file.lastModifiedDate ? file.lastModifiedDate.toLocaleDateString() :\n",
              "                                    'n/a'} - `));\n",
              "    const percent = span('0% done');\n",
              "    li.appendChild(percent);\n",
              "\n",
              "    outputElement.appendChild(li);\n",
              "\n",
              "    const fileDataPromise = new Promise((resolve) => {\n",
              "      const reader = new FileReader();\n",
              "      reader.onload = (e) => {\n",
              "        resolve(e.target.result);\n",
              "      };\n",
              "      reader.readAsArrayBuffer(file);\n",
              "    });\n",
              "    // Wait for the data to be ready.\n",
              "    let fileData = yield {\n",
              "      promise: fileDataPromise,\n",
              "      response: {\n",
              "        action: 'continue',\n",
              "      }\n",
              "    };\n",
              "\n",
              "    // Use a chunked sending to avoid message size limits. See b/62115660.\n",
              "    let position = 0;\n",
              "    do {\n",
              "      const length = Math.min(fileData.byteLength - position, MAX_PAYLOAD_SIZE);\n",
              "      const chunk = new Uint8Array(fileData, position, length);\n",
              "      position += length;\n",
              "\n",
              "      const base64 = btoa(String.fromCharCode.apply(null, chunk));\n",
              "      yield {\n",
              "        response: {\n",
              "          action: 'append',\n",
              "          file: file.name,\n",
              "          data: base64,\n",
              "        },\n",
              "      };\n",
              "\n",
              "      let percentDone = fileData.byteLength === 0 ?\n",
              "          100 :\n",
              "          Math.round((position / fileData.byteLength) * 100);\n",
              "      percent.textContent = `${percentDone}% done`;\n",
              "\n",
              "    } while (position < fileData.byteLength);\n",
              "  }\n",
              "\n",
              "  // All done.\n",
              "  yield {\n",
              "    response: {\n",
              "      action: 'complete',\n",
              "    }\n",
              "  };\n",
              "}\n",
              "\n",
              "scope.google = scope.google || {};\n",
              "scope.google.colab = scope.google.colab || {};\n",
              "scope.google.colab._files = {\n",
              "  _uploadFiles,\n",
              "  _uploadFilesContinue,\n",
              "};\n",
              "})(self);\n",
              "</script> "
            ]
          },
          "metadata": {}
        },
        {
          "output_type": "stream",
          "name": "stdout",
          "text": [
            "Saving kaggle (1).json to kaggle (1).json\n"
          ]
        }
      ]
    },
    {
      "cell_type": "code",
      "source": [
        "!rm -rf ~/.kaggle\n"
      ],
      "metadata": {
        "id": "xku7LGE2wntG"
      },
      "execution_count": 8,
      "outputs": []
    },
    {
      "cell_type": "code",
      "source": [
        "!mkdir ~/.kaggle\n",
        "!cp kaggle.json ~/.kaggle/\n",
        "!chmod 600 ~/.kaggle/kaggle.json\n"
      ],
      "metadata": {
        "colab": {
          "base_uri": "https://localhost:8080/"
        },
        "id": "fQ2o-ny3vyLr",
        "outputId": "63799a0f-583e-4f9b-e749-c8da6970b8c1"
      },
      "execution_count": 12,
      "outputs": [
        {
          "output_type": "stream",
          "name": "stdout",
          "text": [
            "mkdir: cannot create directory ‘/root/.kaggle’: File exists\n"
          ]
        }
      ]
    },
    {
      "cell_type": "markdown",
      "source": [
        "# Downloading the dataset from Kaggle and unzipping it"
      ],
      "metadata": {
        "id": "qIN2_u-G1S5M"
      }
    },
    {
      "cell_type": "code",
      "source": [
        "!kaggle datasets download -d 'risangbaskoro/wlasl-processed'\n"
      ],
      "metadata": {
        "id": "6GpDEjwJyTke"
      },
      "execution_count": null,
      "outputs": []
    },
    {
      "cell_type": "code",
      "source": [
        "!unzip wlasl-processed.zip\n"
      ],
      "metadata": {
        "id": "Og0BfqlVyad2"
      },
      "execution_count": null,
      "outputs": []
    },
    {
      "cell_type": "markdown",
      "source": [
        "# Installing required packages"
      ],
      "metadata": {
        "id": "dZ8Wtz5-1Yew"
      }
    },
    {
      "cell_type": "code",
      "source": [
        "!pip install mediapipe opencv-python\n"
      ],
      "metadata": {
        "id": "ffcZnU6ozzhF"
      },
      "execution_count": null,
      "outputs": []
    },
    {
      "cell_type": "code",
      "source": [
        "import json\n",
        "import os\n",
        "\n",
        "# Path to the JSON file containing metadata\n",
        "json_path = '/content/WLASL_v0.3.json'\n",
        "\n",
        "# Load the dataset metadata\n",
        "with open(json_path) as f:\n",
        "    asl_data = json.load(f)\n",
        "\n",
        "# Example to print the first entry\n",
        "print(asl_data[0])\n"
      ],
      "metadata": {
        "id": "sFMFlxJ60GXC"
      },
      "execution_count": null,
      "outputs": []
    },
    {
      "cell_type": "markdown",
      "source": [
        "# Preprocessing videos by extracting hand landmarks"
      ],
      "metadata": {
        "id": "baLMquxD1tzo"
      }
    },
    {
      "cell_type": "code",
      "source": [
        "import cv2\n",
        "import mediapipe as mp\n",
        "import numpy as np\n",
        "import os\n",
        "import random\n",
        "import pickle\n",
        "\n",
        "mp_hands = mp.solutions.hands\n",
        "hands = mp_hands.Hands(static_image_mode=False,\n",
        "                       max_num_hands=1,\n",
        "                       min_detection_confidence=0.5,\n",
        "                       min_tracking_confidence=0.5)\n",
        "\n",
        "def preprocess_video(video_path):\n",
        "    cap = cv2.VideoCapture(video_path)\n",
        "    frame_landmarks = []  # List to store landmarks of each frame\n",
        "\n",
        "    while cap.isOpened():\n",
        "        ret, frame = cap.read()\n",
        "        if not ret:\n",
        "            break\n",
        "\n",
        "        # Convert the frame to RGB\n",
        "        frame_rgb = cv2.cvtColor(frame, cv2.COLOR_BGR2RGB)\n",
        "        results = hands.process(frame_rgb)\n",
        "\n",
        "        # Extract landmarks if any are detected\n",
        "        if results.multi_hand_landmarks:\n",
        "            for hand_landmarks in results.multi_hand_landmarks:\n",
        "                # Extracting x, y coordinates of landmarks for each hand\n",
        "                landmarks = [(lm.x, lm.y) for lm in hand_landmarks.landmark]\n",
        "                frame_landmarks.append(landmarks)\n",
        "\n",
        "    cap.release()\n",
        "    return frame_landmarks\n",
        "\n",
        "def save_landmarks(landmarks, filename):\n",
        "    with open(filename, 'wb') as f:\n",
        "        pickle.dump(landmarks, f)\n",
        "\n",
        "def process_subset_of_videos(directory, sample_size=500):\n",
        "    video_files = [f for f in os.listdir(directory) if f.endswith(\".mp4\")]\n",
        "    sampled_files = random.sample(video_files, min(sample_size, len(video_files)))  # Ensure we don't sample more than exists\n",
        "    all_landmarks = {}\n",
        "\n",
        "    for filename in sampled_files:\n",
        "        video_path = os.path.join(directory, filename)\n",
        "        landmarks = preprocess_video(video_path)\n",
        "        all_landmarks[filename] = landmarks\n",
        "        print(f\"Processed {filename}: {len(landmarks)} frames processed.\")\n",
        "\n",
        "    # Save all landmarks to a file\n",
        "    save_landmarks(all_landmarks, 'processed_landmarks.pkl')\n",
        "\n",
        "# Set the directory containing your videos\n",
        "video_directory = '/content/videos'\n",
        "process_subset_of_videos(video_directory, sample_size=500)  # Adjust sample size as needed\n"
      ],
      "metadata": {
        "id": "nVD9RVYAMHSq"
      },
      "execution_count": null,
      "outputs": []
    },
    {
      "cell_type": "code",
      "source": [
        "def load_landmarks(filename):\n",
        "    with open(filename, 'rb') as f:\n",
        "        return pickle.load(f)\n",
        "\n",
        "# Load the processed landmarks\n",
        "landmarks_data = load_landmarks('processed_landmarks.pkl')\n"
      ],
      "metadata": {
        "id": "KIPewH-uXWq7"
      },
      "execution_count": 28,
      "outputs": []
    },
    {
      "cell_type": "markdown",
      "source": [
        "#Flatten and normalize landmarks data"
      ],
      "metadata": {
        "id": "zzisJSR52xwa"
      }
    },
    {
      "cell_type": "code",
      "source": [
        "import numpy as np\n",
        "from sklearn.preprocessing import MinMaxScaler\n",
        "\n",
        "scaler = MinMaxScaler()\n",
        "\n",
        "def flatten_and_normalize_landmarks(landmarks_dict):\n",
        "    flattened_features = []\n",
        "    for video_name, frames in landmarks_dict.items():\n",
        "        for frame_landmarks in frames:\n",
        "            # Flatten landmarks for each frame\n",
        "            flat_landmarks = np.array(frame_landmarks).flatten().reshape(-1, 1)\n",
        "            normalized_landmarks = scaler.fit_transform(flat_landmarks).flatten()\n",
        "            flattened_features.append(normalized_landmarks)\n",
        "    return flattened_features\n",
        "\n",
        "# Assuming 'landmarks_data' is your loaded data from pickle\n",
        "flattened_features = flatten_and_normalize_landmarks(landmarks_data)\n"
      ],
      "metadata": {
        "id": "6Wmzz04JYpaZ"
      },
      "execution_count": 32,
      "outputs": []
    },
    {
      "cell_type": "markdown",
      "source": [
        "# Matching labels with processed videos"
      ],
      "metadata": {
        "id": "5o7sB9y33DBD"
      }
    },
    {
      "cell_type": "code",
      "source": [
        "import json\n",
        "\n",
        "def load_metadata(metadata_path):\n",
        "    with open(metadata_path, 'r') as file:\n",
        "        return json.load(file)\n",
        "\n",
        "def extract_labels(metadata):\n",
        "    labels_mapping = {}\n",
        "    for entry in metadata:\n",
        "        gloss = entry['gloss']\n",
        "        for instance in entry['instances']:\n",
        "            video_id = instance['video_id']\n",
        "            labels_mapping[video_id + '.mp4'] = gloss\n",
        "    return labels_mapping\n",
        "\n",
        "def match_labels(processed_videos, labels_mapping):\n",
        "    return {video: labels_mapping.get(video, 'Unknown') for video in processed_videos}\n",
        "\n",
        "# Paths and dataa\n",
        "metadata_path = '/content/WLASL_v0.3.json'\n",
        "\n",
        "# List of processed videos, hardcoded for convenience\n",
        "processed_videos = [\n",
        "\"35120.mp4\", \"07451.mp4\", \"07372.mp4\", \"00416.mp4\", \"54298.mp4\", \"19561.mp4\", \"43255.mp4\", \"12231.mp4\", \"41079.mp4\", \"23434.mp4\",\n",
        "\"08917.mp4\", \"16986.mp4\", \"24344.mp4\", \"66708.mp4\", \"56775.mp4\", \"06047.mp4\", \"36404.mp4\", \"34839.mp4\", \"19971.mp4\", \"55421.mp4\",\n",
        "\"25068.mp4\", \"66596.mp4\", \"33986.mp4\", \"66284.mp4\", \"09892.mp4\", \"21923.mp4\", \"05095.mp4\", \"53270.mp4\", \"66486.mp4\", \"54667.mp4\",\n",
        "\"20381.mp4\", \"26931.mp4\", \"08347.mp4\", \"13228.mp4\", \"12656.mp4\", \"57060.mp4\", \"49383.mp4\", \"07472.mp4\", \"58026.mp4\", \"04509.mp4\",\n",
        "\"36933.mp4\", \"66555.mp4\", \"24525.mp4\", \"51709.mp4\", \"05743.mp4\", \"07269.mp4\", \"33808.mp4\", \"65832.mp4\", \"47440.mp4\", \"49805.mp4\",\n",
        "\"04013.mp4\", \"69316.mp4\", \"13695.mp4\", \"34005.mp4\", \"20070.mp4\", \"37308.mp4\", \"59214.mp4\", \"52615.mp4\", \"36402.mp4\", \"65950.mp4\",\n",
        "\"13273.mp4\", \"60462.mp4\", \"31496.mp4\", \"21568.mp4\", \"40469.mp4\", \"43931.mp4\", \"57077.mp4\", \"45111.mp4\", \"47001.mp4\", \"32759.mp4\",\n",
        "\"20158.mp4\", \"42246.mp4\", \"65591.mp4\", \"51918.mp4\", \"12874.mp4\", \"57728.mp4\", \"05912.mp4\", \"03805.mp4\", \"04619.mp4\", \"58911.mp4\",\n",
        "\"41941.mp4\", \"18246.mp4\", \"65464.mp4\", \"17325.mp4\", \"66228.mp4\", \"20987.mp4\", \"53015.mp4\", \"52201.mp4\", \"04325.mp4\", \"56344.mp4\",\n",
        "\"09634.mp4\", \"50014.mp4\", \"01158.mp4\", \"40115.mp4\", \"11260.mp4\", \"14467.mp4\", \"24682.mp4\", \"34276.mp4\", \"35574.mp4\", \"00603.mp4\",\n",
        "\"53709.mp4\", \"62393.mp4\", \"14887.mp4\", \"00963.mp4\", \"00868.mp4\", \"26574.mp4\", \"49436.mp4\", \"01583.mp4\", \"53872.mp4\", \"08588.mp4\",\n",
        "\"21370.mp4\", \"08862.mp4\", \"00435.mp4\", \"15813.mp4\", \"47846.mp4\", \"59249.mp4\", \"64308.mp4\", \"53546.mp4\", \"47913.mp4\", \"44843.mp4\",\n",
        "\"02864.mp4\", \"58665.mp4\", \"51107.mp4\", \"65131.mp4\", \"07492.mp4\", \"66423.mp4\", \"25508.mp4\", \"13173.mp4\", \"50855.mp4\", \"06021.mp4\",\n",
        "\"41645.mp4\", \"18944.mp4\", \"20513.mp4\", \"66791.mp4\", \"41055.mp4\", \"14734.mp4\", \"65226.mp4\", \"48731.mp4\", \"57640.mp4\", \"51226.mp4\",\n",
        "\"16386.mp4\", \"14202.mp4\", \"03479.mp4\", \"65518.mp4\", \"44953.mp4\", \"37613.mp4\", \"02092.mp4\", \"56178.mp4\", \"44402.mp4\", \"37194.mp4\",\n",
        "\"44321.mp4\", \"53565.mp4\", \"27099.mp4\", \"10449.mp4\", \"59596.mp4\", \"28818.mp4\", \"40566.mp4\", \"08612.mp4\", \"05175.mp4\", \"40987.mp4\",\n",
        "\"24043.mp4\", \"10300.mp4\", \"05090.mp4\", \"46780.mp4\", \"41317.mp4\", \"69286.mp4\", \"26945.mp4\", \"39291.mp4\", \"66818.mp4\", \"63851.mp4\",\n",
        "\"22974.mp4\", \"64065.mp4\", \"27154.mp4\", \"35523.mp4\", \"02712.mp4\", \"44683.mp4\", \"50143.mp4\", \"48341.mp4\", \"65235.mp4\", \"62619.mp4\",\n",
        "\"53644.mp4\", \"38399.mp4\", \"10581.mp4\", \"18315.mp4\", \"21694.mp4\", \"11529.mp4\", \"20262.mp4\", \"09186.mp4\", \"43388.mp4\", \"66731.mp4\",\n",
        "\"25191.mp4\", \"00904.mp4\", \"60385.mp4\", \"66303.mp4\", \"66155.mp4\", \"21086.mp4\", \"09305.mp4\", \"64043.mp4\", \"38181.mp4\", \"24946.mp4\",\n",
        "\"08746.mp4\", \"05767.mp4\", \"01471.mp4\", \"43373.mp4\", \"45419.mp4\", \"49334.mp4\", \"05232.mp4\", \"18028.mp4\", \"59073.mp4\", \"32511.mp4\",\n",
        "\"23407.mp4\", \"36687.mp4\", \"35513.mp4\", \"50584.mp4\", \"06001.mp4\", \"69489.mp4\", \"47307.mp4\", \"64385.mp4\", \"44779.mp4\", \"61443.mp4\",\n",
        "\"53771.mp4\", \"13249.mp4\", \"28582.mp4\", \"65535.mp4\", \"05685.mp4\", \"65168.mp4\", \"47237.mp4\", \"02852.mp4\", \"06049.mp4\", \"62782.mp4\",\n",
        "\"08308.mp4\", \"65781.mp4\", \"07433.mp4\", \"66016.mp4\", \"43058.mp4\", \"66800.mp4\", \"26856.mp4\", \"09625.mp4\", \"03235.mp4\", \"32522.mp4\",\n",
        "\"34123.mp4\", \"60350.mp4\", \"49640.mp4\", \"03068.mp4\", \"21945.mp4\", \"52318.mp4\", \"24044.mp4\", \"60948.mp4\", \"03121.mp4\", \"54995.mp4\",\n",
        "\"34357.mp4\", \"57238.mp4\", \"57302.mp4\", \"28261.mp4\", \"22636.mp4\", \"53855.mp4\", \"50618.mp4\", \"58834.mp4\", \"17949.mp4\", \"05920.mp4\",\n",
        "\"17821.mp4\", \"51356.mp4\", \"43594.mp4\", \"13751.mp4\", \"26013.mp4\", \"08745.mp4\", \"27450.mp4\", \"27775.mp4\", \"21829.mp4\", \"01252.mp4\",\n",
        "\"28376.mp4\", \"06313.mp4\", \"65504.mp4\", \"59846.mp4\", \"23585.mp4\", \"22412.mp4\", \"60221.mp4\", \"60305.mp4\", \"65428.mp4\", \"19766.mp4\",\n",
        "\"60460.mp4\", \"06655.mp4\", \"41165.mp4\", \"54805.mp4\", \"53295.mp4\", \"66280.mp4\", \"54260.mp4\", \"17364.mp4\", \"11711.mp4\", \"50938.mp4\",\n",
        "\"66484.mp4\", \"09849.mp4\", \"63789.mp4\", \"29648.mp4\", \"44544.mp4\", \"19930.mp4\", \"08536.mp4\", \"06628.mp4\", \"65607.mp4\", \"65140.mp4\",\n",
        "\"41822.mp4\", \"53220.mp4\", \"13460.mp4\", \"02625.mp4\", \"43946.mp4\", \"22926.mp4\", \"52712.mp4\", \"56840.mp4\", \"48346.mp4\", \"16002.mp4\",\n",
        "\"45261.mp4\", \"08474.mp4\", \"18875.mp4\", \"50503.mp4\", \"02542.mp4\", \"53881.mp4\", \"20445.mp4\", \"09306.mp4\", \"44221.mp4\", \"38396.mp4\",\n",
        "\"04099.mp4\", \"45912.mp4\", \"32562.mp4\", \"38841.mp4\", \"01226.mp4\", \"52049.mp4\", \"57850.mp4\", \"19409.mp4\", \"15547.mp4\", \"65204.mp4\",\n",
        "\"17298.mp4\", \"03061.mp4\", \"37046.mp4\", \"65752.mp4\", \"17087.mp4\", \"25246.mp4\", \"13468.mp4\", \"50319.mp4\", \"06833.mp4\", \"34266.mp4\",\n",
        "\"12391.mp4\", \"52320.mp4\", \"54823.mp4\", \"26537.mp4\", \"03605.mp4\", \"13880.mp4\", \"04062.mp4\", \"15849.mp4\", \"50122.mp4\", \"27635.mp4\",\n",
        "\"63077.mp4\", \"05631.mp4\", \"23667.mp4\", \"32569.mp4\", \"10106.mp4\", \"07772.mp4\", \"05792.mp4\", \"49084.mp4\", \"13859.mp4\", \"54124.mp4\",\n",
        "\"20142.mp4\", \"69262.mp4\", \"05110.mp4\", \"63499.mp4\", \"55535.mp4\", \"57709.mp4\", \"12314.mp4\", \"44782.mp4\", \"32398.mp4\", \"62196.mp4\",\n",
        "\"53154.mp4\", \"35453.mp4\", \"26531.mp4\", \"60915.mp4\", \"57657.mp4\", \"39881.mp4\", \"38378.mp4\", \"44831.mp4\", \"15907.mp4\", \"61368.mp4\",\n",
        "\"13161.mp4\", \"27634.mp4\", \"10186.mp4\", \"66557.mp4\", \"16892.mp4\", \"43812.mp4\", \"54139.mp4\", \"00599.mp4\", \"17758.mp4\", \"51276.mp4\",\n",
        "\"17827.mp4\", \"03105.mp4\", \"10687.mp4\", \"01926.mp4\", \"53367.mp4\", \"55803.mp4\", \"34577.mp4\", \"62756.mp4\", \"07506.mp4\", \"26800.mp4\",\n",
        "\"38830.mp4\", \"26494.mp4\", \"36040.mp4\", \"52556.mp4\", \"54081.mp4\", \"32284.mp4\", \"04290.mp4\", \"06976.mp4\", \"10008.mp4\", \"55000.mp4\",\n",
        "\"10711.mp4\", \"25623.mp4\", \"65472.mp4\", \"06045.mp4\", \"17762.mp4\", \"17206.mp4\", \"57134.mp4\", \"66515.mp4\", \"36146.mp4\", \"05808.mp4\",\n",
        "\"27456.mp4\", \"59966.mp4\", \"24438.mp4\", \"07475.mp4\", \"57170.mp4\", \"48573.mp4\", \"09574.mp4\", \"27925.mp4\", \"49175.mp4\", \"33651.mp4\",\n",
        "\"05873.mp4\", \"55368.mp4\", \"64283.mp4\", \"05778.mp4\", \"20973.mp4\", \"57825.mp4\", \"26527.mp4\", \"46173.mp4\", \"11563.mp4\", \"57671.mp4\",\n",
        "\"18289.mp4\", \"56488.mp4\", \"15176.mp4\", \"32959.mp4\", \"37126.mp4\", \"28469.mp4\", \"58937.mp4\", \"19224.mp4\", \"03272.mp4\", \"52802.mp4\",\n",
        "\"32214.mp4\", \"69546.mp4\", \"12680.mp4\", \"01564.mp4\", \"25624.mp4\", \"35555.mp4\", \"39507.mp4\", \"44538.mp4\", \"53267.mp4\", \"08429.mp4\",\n",
        "\"05217.mp4\", \"42553.mp4\", \"58664.mp4\", \"18759.mp4\", \"44563.mp4\", \"22003.mp4\", \"28454.mp4\", \"65782.mp4\", \"44083.mp4\", \"39996.mp4\",\n",
        "\"04202.mp4\", \"56160.mp4\", \"69352.mp4\", \"49328.mp4\", \"65244.mp4\", \"66088.mp4\", \"27190.mp4\", \"30676.mp4\", \"13619.mp4\", \"50415.mp4\",\n",
        "\"44274.mp4\", \"19816.mp4\", \"16585.mp4\", \"66765.mp4\", \"48566.mp4\", \"50534.mp4\", \"10703.mp4\", \"12116.mp4\", \"62524.mp4\", \"00377.mp4\",\n",
        "\"66758.mp4\", \"57771.mp4\", \"08417.mp4\", \"43529.mp4\", \"42567.mp4\", \"35966.mp4\", \"19692.mp4\", \"54955.mp4\", \"66263.mp4\", \"31898.mp4\"\n",
        "]\n",
        "\n",
        "# Load and process data\n",
        "metadata = load_metadata(metadata_path)\n",
        "labels_mapping = extract_labels(metadata)\n",
        "matched_labels = match_labels(processed_videos, labels_mapping)\n",
        "\n",
        "# Output the matched labels\n",
        "for video, label in matched_labels.items():\n",
        "    print(f\"{video}: {label}\")\n"
      ],
      "metadata": {
        "id": "MzwNUMKTYuh1"
      },
      "execution_count": null,
      "outputs": []
    },
    {
      "cell_type": "markdown",
      "source": [
        "# Defining a function to flatten and normalize landmarks data with labels mapping"
      ],
      "metadata": {
        "id": "EU3Nzc9v3QJz"
      }
    },
    {
      "cell_type": "code",
      "source": [
        "import numpy as np\n",
        "from sklearn.preprocessing import MinMaxScaler\n",
        "from sklearn.model_selection import train_test_split\n",
        "\n",
        "# Assuming landmarks_data is loaded and you have a correct labels mapping\n",
        "def flatten_and_normalize_landmarks(landmarks_dict, labels_mapping):\n",
        "    flattened_features = []\n",
        "    matched_labels = []\n",
        "    scaler = MinMaxScaler()\n",
        "\n",
        "    for video_name, frames in landmarks_dict.items():\n",
        "        if video_name in labels_mapping:  # Ensure there is a label for the video\n",
        "            for frame_landmarks in frames:\n",
        "                # Flatten landmarks for each frame\n",
        "                flat_landmarks = np.array(frame_landmarks).flatten().reshape(-1, 1)\n",
        "                normalized_landmarks = scaler.fit_transform(flat_landmarks).flatten()\n",
        "                flattened_features.append(normalized_landmarks)\n",
        "                matched_labels.append(labels_mapping[video_name])\n",
        "\n",
        "    return flattened_features, matched_labels\n",
        "\n",
        "# Load metadata and prepare labels mapping\n",
        "metadata = load_metadata('/content/WLASL_v0.3.json')\n",
        "labels_mapping = extract_labels(metadata)\n",
        "\n",
        "# Generate features and labels\n",
        "flattened_features, final_labels = flatten_and_normalize_landmarks(landmarks_data, labels_mapping)\n",
        "\n",
        "# Encoding labels\n",
        "from sklearn.preprocessing import LabelEncoder\n",
        "encoder = LabelEncoder()\n",
        "encoded_labels = encoder.fit_transform(final_labels)\n",
        "\n",
        "# Splitting the dataset\n",
        "X_train, X_val, y_train, y_val = train_test_split(flattened_features, encoded_labels, test_size=0.2, random_state=42)\n"
      ],
      "metadata": {
        "id": "Mn970Vjkmz4l"
      },
      "execution_count": 39,
      "outputs": []
    },
    {
      "cell_type": "code",
      "source": [
        "# Convert lists to numpy arrays\n",
        "X_train = np.array(X_train)\n",
        "X_val = np.array(X_val)\n",
        "\n",
        "# Now that X_train and X_val are numpy arrays, you can safely access .shape and other numpy methods\n"
      ],
      "metadata": {
        "id": "qmsS2S27nVn4"
      },
      "execution_count": 41,
      "outputs": []
    },
    {
      "cell_type": "markdown",
      "source": [
        "# Defining the neural network model architecture"
      ],
      "metadata": {
        "id": "vIBs19X23hPS"
      }
    },
    {
      "cell_type": "code",
      "source": [
        "from tensorflow.keras.models import Sequential\n",
        "from tensorflow.keras.layers import Dense, Dropout\n",
        "from tensorflow.keras.callbacks import EarlyStopping, ModelCheckpoint, ReduceLROnPlateau\n",
        "\n",
        "# Define the model\n",
        "model = Sequential([\n",
        "    Dense(512, input_dim=X_train.shape[1], activation='relu'),\n",
        "    Dropout(0.5),\n",
        "    Dense(256, activation='relu'),\n",
        "    Dense(len(np.unique(y_train)), activation='softmax')  # Output layer with one neuron per class\n",
        "])\n",
        "\n",
        "model.compile(optimizer='adam', loss='sparse_categorical_crossentropy', metrics=['accuracy'])\n",
        "\n",
        "# Define early stopping criteria\n",
        "early_stopper = EarlyStopping(monitor='val_loss', patience=5, restore_best_weights=True)\n",
        "\n",
        "# Checkpoint to save the best model\n",
        "checkpoint = ModelCheckpoint('best_model.h5', save_best_only=True, monitor='val_loss', mode='min')\n",
        "\n",
        "# Reduce learning rate when a metric has stopped improving\n",
        "reduce_lr = ReduceLROnPlateau(monitor='val_loss', factor=0.2, patience=2, min_lr=0.001)\n",
        "\n",
        "# Train the model with the new callbacks\n",
        "history = model.fit(\n",
        "    X_train, y_train,\n",
        "    validation_data=(X_val, y_val),\n",
        "    epochs=50,  # Increased number of epochs to allow for more training iterations\n",
        "    batch_size=32,\n",
        "    callbacks=[early_stopper, checkpoint, reduce_lr]\n",
        ")\n",
        "\n",
        "# Plot training & validation accuracy values\n",
        "import matplotlib.pyplot as plt\n",
        "plt.plot(history.history['accuracy'])\n",
        "plt.plot(history.history['val_accuracy'])\n",
        "plt.title('Model Accuracy')\n",
        "plt.ylabel('Accuracy')\n",
        "plt.xlabel('Epoch')\n",
        "plt.legend(['Train', 'Validation'], loc='upper left')\n",
        "plt.show()\n",
        "\n",
        "# Plot training & validation loss values\n",
        "plt.plot(history.history['loss'])\n",
        "plt.plot(history.history['val_loss'])\n",
        "plt.title('Model Loss')\n",
        "plt.ylabel('Loss')\n",
        "plt.xlabel('Epoch')\n",
        "plt.legend(['Train', 'Validation'], loc='upper left')\n",
        "plt.show()\n"
      ],
      "metadata": {
        "colab": {
          "base_uri": "https://localhost:8080/",
          "height": 1000
        },
        "id": "MwMDRR9-sge6",
        "outputId": "2054822f-5bd3-4250-bda7-6cfa2b767422"
      },
      "execution_count": 53,
      "outputs": [
        {
          "output_type": "stream",
          "name": "stdout",
          "text": [
            "Epoch 1/50\n",
            "517/518 [============================>.] - ETA: 0s - loss: 5.3360 - accuracy: 0.0432"
          ]
        },
        {
          "output_type": "stream",
          "name": "stderr",
          "text": [
            "/usr/local/lib/python3.10/dist-packages/keras/src/engine/training.py:3103: UserWarning: You are saving your model as an HDF5 file via `model.save()`. This file format is considered legacy. We recommend using instead the native Keras format, e.g. `model.save('my_model.keras')`.\n",
            "  saving_api.save_model(\n"
          ]
        },
        {
          "output_type": "stream",
          "name": "stdout",
          "text": [
            "\b\b\b\b\b\b\b\b\b\b\b\b\b\b\b\b\b\b\b\b\b\b\b\b\b\b\b\b\b\b\b\b\b\b\b\b\b\b\b\b\b\b\b\b\b\b\b\b\b\b\b\b\b\b\b\b\b\b\b\b\b\b\b\b\b\b\b\b\b\b\b\b\b\b\b\b\b\b\b\b\b\b\b\b\r518/518 [==============================] - 19s 29ms/step - loss: 5.3358 - accuracy: 0.0431 - val_loss: 4.2057 - val_accuracy: 0.1609 - lr: 0.0010\n",
            "Epoch 2/50\n",
            "518/518 [==============================] - 13s 25ms/step - loss: 3.7286 - accuracy: 0.2064 - val_loss: 3.2173 - val_accuracy: 0.3163 - lr: 0.0010\n",
            "Epoch 3/50\n",
            "518/518 [==============================] - 11s 21ms/step - loss: 3.0104 - accuracy: 0.3284 - val_loss: 2.6601 - val_accuracy: 0.4166 - lr: 0.0010\n",
            "Epoch 4/50\n",
            "518/518 [==============================] - 12s 23ms/step - loss: 2.5562 - accuracy: 0.4104 - val_loss: 2.2854 - val_accuracy: 0.5058 - lr: 0.0010\n",
            "Epoch 5/50\n",
            "518/518 [==============================] - 11s 22ms/step - loss: 2.2463 - accuracy: 0.4747 - val_loss: 2.0543 - val_accuracy: 0.5522 - lr: 0.0010\n",
            "Epoch 6/50\n",
            "518/518 [==============================] - 6s 12ms/step - loss: 2.0255 - accuracy: 0.5202 - val_loss: 1.8935 - val_accuracy: 0.5761 - lr: 0.0010\n",
            "Epoch 7/50\n",
            "518/518 [==============================] - 8s 16ms/step - loss: 1.8585 - accuracy: 0.5527 - val_loss: 1.7471 - val_accuracy: 0.6247 - lr: 0.0010\n",
            "Epoch 8/50\n",
            "518/518 [==============================] - 4s 8ms/step - loss: 1.7237 - accuracy: 0.5830 - val_loss: 1.6539 - val_accuracy: 0.6411 - lr: 0.0010\n",
            "Epoch 9/50\n",
            "518/518 [==============================] - 5s 10ms/step - loss: 1.6199 - accuracy: 0.6035 - val_loss: 1.5846 - val_accuracy: 0.6660 - lr: 0.0010\n",
            "Epoch 10/50\n",
            "518/518 [==============================] - 9s 17ms/step - loss: 1.5260 - accuracy: 0.6223 - val_loss: 1.5136 - val_accuracy: 0.6788 - lr: 0.0010\n",
            "Epoch 11/50\n",
            "518/518 [==============================] - 11s 21ms/step - loss: 1.4526 - accuracy: 0.6375 - val_loss: 1.4358 - val_accuracy: 0.7011 - lr: 0.0010\n",
            "Epoch 12/50\n",
            "518/518 [==============================] - 11s 20ms/step - loss: 1.3719 - accuracy: 0.6565 - val_loss: 1.4078 - val_accuracy: 0.7086 - lr: 0.0010\n",
            "Epoch 13/50\n",
            "518/518 [==============================] - 6s 12ms/step - loss: 1.3189 - accuracy: 0.6606 - val_loss: 1.3928 - val_accuracy: 0.7127 - lr: 0.0010\n",
            "Epoch 14/50\n",
            "518/518 [==============================] - 5s 9ms/step - loss: 1.2586 - accuracy: 0.6775 - val_loss: 1.3646 - val_accuracy: 0.7204 - lr: 0.0010\n",
            "Epoch 15/50\n",
            "518/518 [==============================] - 8s 15ms/step - loss: 1.2189 - accuracy: 0.6862 - val_loss: 1.3058 - val_accuracy: 0.7334 - lr: 0.0010\n",
            "Epoch 16/50\n",
            "518/518 [==============================] - 10s 20ms/step - loss: 1.1721 - accuracy: 0.6968 - val_loss: 1.2964 - val_accuracy: 0.7315 - lr: 0.0010\n",
            "Epoch 17/50\n",
            "518/518 [==============================] - 11s 20ms/step - loss: 1.1251 - accuracy: 0.7058 - val_loss: 1.2418 - val_accuracy: 0.7475 - lr: 0.0010\n",
            "Epoch 18/50\n",
            "518/518 [==============================] - 7s 14ms/step - loss: 1.0882 - accuracy: 0.7142 - val_loss: 1.2481 - val_accuracy: 0.7508 - lr: 0.0010\n",
            "Epoch 19/50\n",
            "518/518 [==============================] - 8s 15ms/step - loss: 1.0835 - accuracy: 0.7099 - val_loss: 1.2146 - val_accuracy: 0.7593 - lr: 0.0010\n",
            "Epoch 20/50\n",
            "518/518 [==============================] - 12s 23ms/step - loss: 1.0419 - accuracy: 0.7211 - val_loss: 1.2414 - val_accuracy: 0.7545 - lr: 0.0010\n",
            "Epoch 21/50\n",
            "518/518 [==============================] - 13s 26ms/step - loss: 1.0055 - accuracy: 0.7335 - val_loss: 1.2162 - val_accuracy: 0.7600 - lr: 0.0010\n",
            "Epoch 22/50\n",
            "518/518 [==============================] - 11s 22ms/step - loss: 0.9808 - accuracy: 0.7353 - val_loss: 1.2026 - val_accuracy: 0.7675 - lr: 0.0010\n",
            "Epoch 23/50\n",
            "518/518 [==============================] - 11s 22ms/step - loss: 0.9509 - accuracy: 0.7420 - val_loss: 1.1812 - val_accuracy: 0.7731 - lr: 0.0010\n",
            "Epoch 24/50\n",
            "518/518 [==============================] - 7s 13ms/step - loss: 0.9408 - accuracy: 0.7458 - val_loss: 1.1830 - val_accuracy: 0.7714 - lr: 0.0010\n",
            "Epoch 25/50\n",
            "518/518 [==============================] - 4s 8ms/step - loss: 0.9114 - accuracy: 0.7478 - val_loss: 1.1953 - val_accuracy: 0.7711 - lr: 0.0010\n",
            "Epoch 26/50\n",
            "518/518 [==============================] - 5s 10ms/step - loss: 0.8870 - accuracy: 0.7539 - val_loss: 1.1683 - val_accuracy: 0.7832 - lr: 0.0010\n",
            "Epoch 27/50\n",
            "518/518 [==============================] - 10s 19ms/step - loss: 0.8718 - accuracy: 0.7587 - val_loss: 1.1539 - val_accuracy: 0.7849 - lr: 0.0010\n",
            "Epoch 28/50\n",
            "518/518 [==============================] - 10s 20ms/step - loss: 0.8580 - accuracy: 0.7644 - val_loss: 1.1495 - val_accuracy: 0.7871 - lr: 0.0010\n",
            "Epoch 29/50\n",
            "518/518 [==============================] - 9s 17ms/step - loss: 0.8399 - accuracy: 0.7635 - val_loss: 1.1753 - val_accuracy: 0.7840 - lr: 0.0010\n",
            "Epoch 30/50\n",
            "518/518 [==============================] - 5s 9ms/step - loss: 0.8102 - accuracy: 0.7707 - val_loss: 1.1643 - val_accuracy: 0.7951 - lr: 0.0010\n",
            "Epoch 31/50\n",
            "518/518 [==============================] - 5s 9ms/step - loss: 0.8014 - accuracy: 0.7714 - val_loss: 1.1484 - val_accuracy: 0.7936 - lr: 0.0010\n",
            "Epoch 32/50\n",
            "518/518 [==============================] - 9s 18ms/step - loss: 0.8002 - accuracy: 0.7717 - val_loss: 1.1423 - val_accuracy: 0.7929 - lr: 0.0010\n",
            "Epoch 33/50\n",
            "518/518 [==============================] - 10s 19ms/step - loss: 0.7777 - accuracy: 0.7785 - val_loss: 1.1428 - val_accuracy: 0.7960 - lr: 0.0010\n",
            "Epoch 34/50\n",
            "518/518 [==============================] - 9s 17ms/step - loss: 0.7602 - accuracy: 0.7804 - val_loss: 1.2024 - val_accuracy: 0.7953 - lr: 0.0010\n",
            "Epoch 35/50\n",
            "518/518 [==============================] - 4s 8ms/step - loss: 0.7508 - accuracy: 0.7856 - val_loss: 1.1500 - val_accuracy: 0.7980 - lr: 0.0010\n",
            "Epoch 36/50\n",
            "518/518 [==============================] - 4s 9ms/step - loss: 0.7327 - accuracy: 0.7926 - val_loss: 1.1611 - val_accuracy: 0.8016 - lr: 0.0010\n",
            "Epoch 37/50\n",
            "518/518 [==============================] - 8s 16ms/step - loss: 0.7207 - accuracy: 0.7946 - val_loss: 1.1552 - val_accuracy: 0.7968 - lr: 0.0010\n"
          ]
        },
        {
          "output_type": "display_data",
          "data": {
            "text/plain": [
              "<Figure size 640x480 with 1 Axes>"
            ],
            "image/png": "[encoded data removed]"
          },
          "metadata": {}
        },
        {
          "output_type": "display_data",
          "data": {
            "text/plain": [
              "<Figure size 640x480 with 1 Axes>"
            ],
            "image/png": "[encoded data removed]"
          },
          "metadata": {}
        }
      ]
    },
    {
      "cell_type": "code",
      "source": [
        "import tensorflow as tf\n",
        "from tensorflow.keras.layers import MultiHeadAttention, Dense, Input, Dropout, LayerNormalization, GlobalAveragePooling1D, Embedding\n",
        "from tensorflow.keras.models import Model\n",
        "import tensorflow_addons as tfa\n"
      ],
      "metadata": {
        "id": "_q_Cqv3OpGn5"
      },
      "execution_count": 55,
      "outputs": []
    },
    {
      "cell_type": "markdown",
      "source": [
        "# Defining a transformer encoder function"
      ],
      "metadata": {
        "id": "CIdVEC5X3nEu"
      }
    },
    {
      "cell_type": "code",
      "source": [
        "from tensorflow.keras.models import Model\n",
        "from tensorflow.keras.layers import Input, Dense, Dropout, LayerNormalization, MultiHeadAttention, GlobalAveragePooling1D, Flatten\n",
        "from tensorflow.keras.callbacks import EarlyStopping, ModelCheckpoint, ReduceLROnPlateau\n",
        "import tensorflow as tf\n",
        "\n",
        "def transformer_encoder(inputs, head_size, num_heads, ff_dim, dropout=0):\n",
        "    # Layer normalization and Multi-head attention\n",
        "    x = LayerNormalization(epsilon=1e-6)(inputs)\n",
        "    x = MultiHeadAttention(key_dim=head_size, num_heads=num_heads, dropout=dropout)(x, x)\n",
        "    x = Dropout(dropout)(x)\n",
        "    res = x + inputs\n",
        "\n",
        "    # Feed-forward network\n",
        "    x = LayerNormalization(epsilon=1e-6)(res)\n",
        "    x = Dense(ff_dim, activation=\"relu\")(x)\n",
        "    x = Dropout(dropout)(x)\n",
        "    x = Dense(inputs.shape[-1])(x)\n",
        "    return x + res\n",
        "\n",
        "# Model input\n",
        "input_shape = (X_train.shape[1],)  # Update based on your input feature preparation\n",
        "inputs = Input(shape=input_shape)\n",
        "\n",
        "# Expand dimensions for Transformer processing\n",
        "x = Dense(128, activation='relu')(inputs)\n",
        "x = Dropout(0.1)(x)\n",
        "x = LayerNormalization(epsilon=1e-6)(x)\n",
        "x = tf.expand_dims(x, axis=1)  # Add the sequence dimension for Transformer\n",
        "\n",
        "# Transformer encoder\n",
        "transformer_output = transformer_encoder(x, head_size=64, num_heads=4, ff_dim=128, dropout=0.1)\n",
        "transformer_output = Flatten()(transformer_output)  # Flatten the output for the Dense layer\n",
        "\n",
        "# Output layer\n",
        "outputs = Dense(len(np.unique(y_train)), activation='softmax')(transformer_output)\n",
        "\n",
        "# Compile the model\n",
        "model = Model(inputs=inputs, outputs=outputs)\n",
        "model.compile(optimizer='adam', loss='sparse_categorical_crossentropy', metrics=['accuracy'])\n",
        "\n",
        "# Model summary\n",
        "model.summary()\n",
        "\n",
        "# Callbacks\n",
        "early_stopper = EarlyStopping(monitor='val_loss', patience=5, restore_best_weights=True)\n",
        "checkpoint = ModelCheckpoint('best_transformer_model.h5', save_best_only=True, monitor='val_loss', mode='min')\n",
        "reduce_lr = ReduceLROnPlateau(monitor='val_loss', factor=0.2, patience=2, min_lr=0.001)\n",
        "\n",
        "# Train the model\n",
        "history = model.fit(\n",
        "    X_train, y_train,\n",
        "    validation_data=(X_val, y_val),\n",
        "    epochs=50,  # Adjust the number of epochs based on your training dynamics\n",
        "    batch_size=32,\n",
        "    callbacks=[early_stopper, checkpoint, reduce_lr]\n",
        ")\n",
        "\n",
        "# Plotting\n",
        "import matplotlib.pyplot as plt\n",
        "plt.plot(history.history['accuracy'])\n",
        "plt.plot(history.history['val_accuracy'])\n",
        "plt.title('Model Accuracy')\n",
        "plt.ylabel('Accuracy')\n",
        "plt.xlabel('Epoch')\n",
        "plt.legend(['Train', 'Validation'], loc='upper left')\n",
        "plt.show()\n",
        "\n",
        "plt.plot(history.history['loss'])\n",
        "plt.plot(history.history['val_loss'])\n",
        "plt.title('Model Loss')\n",
        "plt.ylabel('Loss')\n",
        "plt.xlabel('Epoch')\n",
        "plt.legend(['Train', 'Validation'], loc='upper left')\n",
        "plt.show()\n"
      ],
      "metadata": {
        "colab": {
          "base_uri": "https://localhost:8080/",
          "height": 1000
        },
        "id": "vMhtsurKx1r2",
        "outputId": "67926382-3233-4d51-bd36-aba80e4191bd"
      },
      "execution_count": null,
      "outputs": [
        {
          "output_type": "stream",
          "name": "stdout",
          "text": [
            "Model: \"model_2\"\n",
            "__________________________________________________________________________________________________\n",
            " Layer (type)                Output Shape                 Param #   Connected to                  \n",
            "==================================================================================================\n",
            " input_4 (InputLayer)        [(None, 42)]                 0         []                            \n",
            "                                                                                                  \n",
            " dense_15 (Dense)            (None, 128)                  5504      ['input_4[0][0]']             \n",
            "                                                                                                  \n",
            " dropout_8 (Dropout)         (None, 128)                  0         ['dense_15[0][0]']            \n",
            "                                                                                                  \n",
            " layer_normalization_7 (Lay  (None, 128)                  256       ['dropout_8[0][0]']           \n",
            " erNormalization)                                                                                 \n",
            "                                                                                                  \n",
            " tf.expand_dims_2 (TFOpLamb  (None, 1, 128)               0         ['layer_normalization_7[0][0]'\n",
            " da)                                                                ]                             \n",
            "                                                                                                  \n",
            " layer_normalization_8 (Lay  (None, 1, 128)               256       ['tf.expand_dims_2[0][0]']    \n",
            " erNormalization)                                                                                 \n",
            "                                                                                                  \n",
            " multi_head_attention_3 (Mu  (None, 1, 128)               131968    ['layer_normalization_8[0][0]'\n",
            " ltiHeadAttention)                                                  , 'layer_normalization_8[0][0]\n",
            "                                                                    ']                            \n",
            "                                                                                                  \n",
            " dropout_9 (Dropout)         (None, 1, 128)               0         ['multi_head_attention_3[0][0]\n",
            "                                                                    ']                            \n",
            "                                                                                                  \n",
            " tf.__operators__.add_4 (TF  (None, 1, 128)               0         ['dropout_9[0][0]',           \n",
            " OpLambda)                                                           'tf.expand_dims_2[0][0]']    \n",
            "                                                                                                  \n",
            " layer_normalization_9 (Lay  (None, 1, 128)               256       ['tf.__operators__.add_4[0][0]\n",
            " erNormalization)                                                   ']                            \n",
            "                                                                                                  \n",
            " dense_16 (Dense)            (None, 1, 128)               16512     ['layer_normalization_9[0][0]'\n",
            "                                                                    ]                             \n",
            "                                                                                                  \n",
            " dropout_10 (Dropout)        (None, 1, 128)               0         ['dense_16[0][0]']            \n",
            "                                                                                                  \n",
            " dense_17 (Dense)            (None, 1, 128)               16512     ['dropout_10[0][0]']          \n",
            "                                                                                                  \n",
            " tf.__operators__.add_5 (TF  (None, 1, 128)               0         ['dense_17[0][0]',            \n",
            " OpLambda)                                                           'tf.__operators__.add_4[0][0]\n",
            "                                                                    ']                            \n",
            "                                                                                                  \n",
            " flatten_2 (Flatten)         (None, 128)                  0         ['tf.__operators__.add_5[0][0]\n",
            "                                                                    ']                            \n",
            "                                                                                                  \n",
            " dense_18 (Dense)            (None, 458)                  59082     ['flatten_2[0][0]']           \n",
            "                                                                                                  \n",
            "==================================================================================================\n",
            "Total params: 230346 (899.79 KB)\n",
            "Trainable params: 230346 (899.79 KB)\n",
            "Non-trainable params: 0 (0.00 Byte)\n",
            "__________________________________________________________________________________________________\n",
            "Epoch 1/50\n",
            "518/518 [==============================] - 19s 27ms/step - loss: 4.4386 - accuracy: 0.1545 - val_loss: 2.9233 - val_accuracy: 0.3615 - lr: 0.0010\n",
            "Epoch 2/50\n",
            "518/518 [==============================] - 15s 29ms/step - loss: 2.6356 - accuracy: 0.4159 - val_loss: 2.0811 - val_accuracy: 0.5331 - lr: 0.0010\n",
            "Epoch 3/50\n",
            "518/518 [==============================] - 15s 28ms/step - loss: 2.0740 - accuracy: 0.5218 - val_loss: 1.7713 - val_accuracy: 0.5991 - lr: 0.0010\n",
            "Epoch 4/50\n",
            "518/518 [==============================] - 11s 22ms/step - loss: 1.7978 - accuracy: 0.5794 - val_loss: 1.5541 - val_accuracy: 0.6508 - lr: 0.0010\n",
            "Epoch 5/50\n",
            "518/518 [==============================] - 13s 24ms/step - loss: 1.6196 - accuracy: 0.6124 - val_loss: 1.4497 - val_accuracy: 0.6837 - lr: 0.0010\n",
            "Epoch 6/50\n",
            "518/518 [==============================] - 12s 24ms/step - loss: 1.4952 - accuracy: 0.6366 - val_loss: 1.4631 - val_accuracy: 0.6779 - lr: 0.0010\n",
            "Epoch 7/50\n",
            "518/518 [==============================] - 6s 12ms/step - loss: 1.3866 - accuracy: 0.6594 - val_loss: 1.2619 - val_accuracy: 0.7298 - lr: 0.0010\n",
            "Epoch 8/50\n",
            "518/518 [==============================] - 6s 12ms/step - loss: 1.3013 - accuracy: 0.6791 - val_loss: 1.2425 - val_accuracy: 0.7354 - lr: 0.0010\n",
            "Epoch 9/50\n",
            "518/518 [==============================] - 14s 27ms/step - loss: 1.2443 - accuracy: 0.6882 - val_loss: 1.2151 - val_accuracy: 0.7332 - lr: 0.0010\n",
            "Epoch 10/50\n",
            "518/518 [==============================] - 13s 25ms/step - loss: 1.1989 - accuracy: 0.7004 - val_loss: 1.1742 - val_accuracy: 0.7342 - lr: 0.0010\n",
            "Epoch 11/50\n",
            "518/518 [==============================] - 11s 21ms/step - loss: 1.1304 - accuracy: 0.7158 - val_loss: 1.1533 - val_accuracy: 0.7484 - lr: 0.0010\n",
            "Epoch 12/50\n",
            "518/518 [==============================] - 6s 11ms/step - loss: 1.0815 - accuracy: 0.7250 - val_loss: 1.0857 - val_accuracy: 0.7552 - lr: 0.0010\n",
            "Epoch 13/50\n",
            "518/518 [==============================] - 11s 21ms/step - loss: 1.0561 - accuracy: 0.7253 - val_loss: 1.1125 - val_accuracy: 0.7617 - lr: 0.0010\n",
            "Epoch 14/50\n",
            "518/518 [==============================] - 12s 24ms/step - loss: 1.0165 - accuracy: 0.7377 - val_loss: 1.0956 - val_accuracy: 0.7598 - lr: 0.0010\n",
            "Epoch 15/50\n",
            "518/518 [==============================] - 10s 18ms/step - loss: 0.9999 - accuracy: 0.7363 - val_loss: 1.0627 - val_accuracy: 0.7699 - lr: 0.0010\n",
            "Epoch 16/50\n",
            "518/518 [==============================] - 6s 11ms/step - loss: 0.9594 - accuracy: 0.7470 - val_loss: 1.0407 - val_accuracy: 0.7777 - lr: 0.0010\n",
            "Epoch 17/50\n",
            "518/518 [==============================] - 9s 17ms/step - loss: 0.9323 - accuracy: 0.7498 - val_loss: 1.0587 - val_accuracy: 0.7811 - lr: 0.0010\n",
            "Epoch 18/50\n",
            "518/518 [==============================] - 12s 23ms/step - loss: 0.9195 - accuracy: 0.7549 - val_loss: 1.1161 - val_accuracy: 0.7620 - lr: 0.0010\n",
            "Epoch 19/50\n",
            "518/518 [==============================] - 13s 26ms/step - loss: 0.8858 - accuracy: 0.7595 - val_loss: 1.0130 - val_accuracy: 0.7881 - lr: 0.0010\n",
            "Epoch 20/50\n",
            "518/518 [==============================] - 13s 25ms/step - loss: 0.8754 - accuracy: 0.7655 - val_loss: 1.0377 - val_accuracy: 0.7782 - lr: 0.0010\n",
            "Epoch 21/50\n",
            "518/518 [==============================] - 13s 25ms/step - loss: 0.8561 - accuracy: 0.7677 - val_loss: 1.0217 - val_accuracy: 0.7883 - lr: 0.0010\n",
            "Epoch 22/50\n",
            "518/518 [==============================] - 12s 24ms/step - loss: 0.8309 - accuracy: 0.7768 - val_loss: 0.9847 - val_accuracy: 0.7914 - lr: 0.0010\n",
            "Epoch 23/50\n",
            "518/518 [==============================] - 12s 22ms/step - loss: 0.8020 - accuracy: 0.7816 - val_loss: 1.0023 - val_accuracy: 0.7856 - lr: 0.0010\n",
            "Epoch 24/50\n",
            "518/518 [==============================] - 6s 12ms/step - loss: 0.7894 - accuracy: 0.7824 - val_loss: 0.9990 - val_accuracy: 0.7890 - lr: 0.0010\n",
            "Epoch 25/50\n",
            "518/518 [==============================] - 6s 11ms/step - loss: 0.7785 - accuracy: 0.7889 - val_loss: 1.0385 - val_accuracy: 0.7844 - lr: 0.0010\n",
            "Epoch 26/50\n",
            "518/518 [==============================] - 11s 21ms/step - loss: 0.7649 - accuracy: 0.7881 - val_loss: 1.0141 - val_accuracy: 0.7803 - lr: 0.0010\n",
            "Epoch 27/50\n",
            "518/518 [==============================] - 11s 22ms/step - loss: 0.7640 - accuracy: 0.7879 - val_loss: 0.9990 - val_accuracy: 0.7992 - lr: 0.0010\n"
          ]
        },
        {
          "output_type": "display_data",
          "data": {
            "text/plain": [
              "<Figure size 640x480 with 1 Axes>"
            ],
            "image/png": "[encoded data removed]"
          },
          "metadata": {}
        },
        {
          "output_type": "display_data",
          "data": {
            "text/plain": [
              "<Figure size 640x480 with 1 Axes>"
            ],
            "image/png": "[encoded data removed]"
          },
          "metadata": {}
        }
      ]
    }
  ]
}